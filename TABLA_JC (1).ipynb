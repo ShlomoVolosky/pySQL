{
 "cells": [
  {
   "cell_type": "code",
   "execution_count": 1,
   "metadata": {},
   "outputs": [],
   "source": [
    "import chardet\n",
    "import pandas as pd\n",
    "import numpy as np\n",
    "from datetime import date\n",
    "from datetime import datetime\n",
    "today = date.today()\n",
    "import mysql.connector"
   ]
  },
  {
   "cell_type": "code",
   "execution_count": 2,
   "metadata": {},
   "outputs": [],
   "source": [
    "cnx = mysql.connector.connect(user='reporte', password='20rem07',\n",
    "                              host='192.168.0.3',\n",
    "                              database='remesa_remesa')"
   ]
  },
  {
   "cell_type": "code",
   "execution_count": 3,
   "metadata": {},
   "outputs": [],
   "source": [
    "sql = '''SELECT \n",
    "  clie.CL_NOMFANTASIA,\n",
    "  funcionario.FU_NOMBRE as EJECUTIVO,\n",
    "  DATE_FORMAT(dr.DR_FECHA, '%d-%m-%Y') as DR_FECHA,\n",
    "  deu.DD_RUT,\n",
    "  DATE_FORMAT(pd.PG_FECHA, '%d-%m-%Y') as PG_FECHA,\n",
    "  REPLACE(pd.PG_VALOR,\".0000\",\"\") as PG_VALOR,\n",
    "  REPLACE(d.DC_MONTO,\".0000\",\"\") as DC_MONTO,\n",
    "  REPLACE(d.DC_SALDO,\".0000\",\"\") as DC_SALDO\n",
    "  FROM pagodoc pd\n",
    "  INNER JOIN documento AS d ON d.DC_ID = pd.DC_ID\n",
    "  INNER JOIN dilres_ultimas_dil dr ON dr.DC_ID = d.DC_ID \n",
    "  INNER JOIN cliente as clie ON clie.CL_RUT = d.CL_RUT\n",
    "  INNER JOIN deudor as deu ON d.DD_RUT=deu.DD_RUT and d.CL_RUT=deu.CL_RUT\n",
    "  INNER JOIN funcionario ON funcionario.FU_CODIGO =d.ID_USUARIO\n",
    "  WHERE d.ELIMINADO = 0\n",
    "  AND d.CL_RUT IN ('1-9','2-7','3-5','8-6','70-1','76.914.254-1')\n",
    "  ORDER BY d.DC_ID ASC;\n",
    "'''"
   ]
  },
  {
   "cell_type": "code",
   "execution_count": 4,
   "metadata": {},
   "outputs": [],
   "source": [
    "df = pd.read_sql(sql, cnx, coerce_float=True)"
   ]
  },
  {
   "cell_type": "code",
   "execution_count": 5,
   "metadata": {},
   "outputs": [],
   "source": [
    "df.PG_VALOR = pd.to_numeric(df['PG_VALOR']).astype(int)\n",
    "df.DC_MONTO = pd.to_numeric(df['DC_MONTO']).astype(int) \n",
    "df.DC_SALDO = pd.to_numeric(df['DC_SALDO']).astype(int)\n",
    "df.PG_FECHA = pd.to_datetime(df['PG_FECHA'], errors='coerce')\n",
    "df.DR_FECHA = pd.to_datetime(df['PG_FECHA'], errors='coerce')"
   ]
  },
  {
   "cell_type": "code",
   "execution_count": 6,
   "metadata": {},
   "outputs": [
    {
     "data": {
      "text/plain": [
       "REMESA 5          52596\n",
       "REMESA 7          49246\n",
       "REMESA 6          22489\n",
       "REMESA 8           8112\n",
       "REMESA 8 IVAN      2141\n",
       "REMESA 8 CAROL     1808\n",
       "Name: CL_NOMFANTASIA, dtype: int64"
      ]
     },
     "execution_count": 6,
     "metadata": {},
     "output_type": "execute_result"
    }
   ],
   "source": [
    "df.CL_NOMFANTASIA.value_counts()"
   ]
  },
  {
   "cell_type": "code",
   "execution_count": 7,
   "metadata": {},
   "outputs": [
    {
     "data": {
      "text/plain": [
       "(20141001, 15939618)"
      ]
     },
     "execution_count": 7,
     "metadata": {},
     "output_type": "execute_result"
    }
   ],
   "source": [
    "df[df.EJECUTIVO=='EMPEX HMCIA'].PG_VALOR.sum(), df[df.EJECUTIVO=='UNICOB'].PG_VALOR.sum()"
   ]
  },
  {
   "cell_type": "code",
   "execution_count": null,
   "metadata": {},
   "outputs": [],
   "source": []
  },
  {
   "cell_type": "code",
   "execution_count": null,
   "metadata": {},
   "outputs": [],
   "source": []
  },
  {
   "cell_type": "code",
   "execution_count": null,
   "metadata": {},
   "outputs": [],
   "source": []
  },
  {
   "cell_type": "code",
   "execution_count": null,
   "metadata": {},
   "outputs": [],
   "source": []
  },
  {
   "cell_type": "code",
   "execution_count": null,
   "metadata": {},
   "outputs": [],
   "source": []
  },
  {
   "cell_type": "code",
   "execution_count": null,
   "metadata": {},
   "outputs": [],
   "source": []
  },
  {
   "cell_type": "code",
   "execution_count": null,
   "metadata": {},
   "outputs": [],
   "source": []
  },
  {
   "cell_type": "code",
   "execution_count": null,
   "metadata": {},
   "outputs": [],
   "source": []
  },
  {
   "cell_type": "code",
   "execution_count": null,
   "metadata": {},
   "outputs": [],
   "source": []
  },
  {
   "cell_type": "code",
   "execution_count": null,
   "metadata": {},
   "outputs": [],
   "source": []
  },
  {
   "cell_type": "code",
   "execution_count": null,
   "metadata": {},
   "outputs": [],
   "source": []
  },
  {
   "cell_type": "code",
   "execution_count": null,
   "metadata": {},
   "outputs": [],
   "source": []
  },
  {
   "cell_type": "code",
   "execution_count": null,
   "metadata": {},
   "outputs": [],
   "source": []
  },
  {
   "cell_type": "code",
   "execution_count": null,
   "metadata": {},
   "outputs": [],
   "source": []
  },
  {
   "cell_type": "code",
   "execution_count": null,
   "metadata": {},
   "outputs": [],
   "source": []
  },
  {
   "cell_type": "code",
   "execution_count": null,
   "metadata": {},
   "outputs": [],
   "source": []
  },
  {
   "cell_type": "code",
   "execution_count": null,
   "metadata": {},
   "outputs": [],
   "source": []
  },
  {
   "cell_type": "code",
   "execution_count": null,
   "metadata": {},
   "outputs": [],
   "source": []
  },
  {
   "cell_type": "code",
   "execution_count": null,
   "metadata": {},
   "outputs": [],
   "source": []
  },
  {
   "cell_type": "code",
   "execution_count": null,
   "metadata": {},
   "outputs": [],
   "source": []
  },
  {
   "cell_type": "code",
   "execution_count": null,
   "metadata": {},
   "outputs": [],
   "source": []
  },
  {
   "cell_type": "code",
   "execution_count": null,
   "metadata": {},
   "outputs": [],
   "source": []
  },
  {
   "cell_type": "code",
   "execution_count": null,
   "metadata": {},
   "outputs": [],
   "source": []
  },
  {
   "cell_type": "code",
   "execution_count": null,
   "metadata": {},
   "outputs": [],
   "source": []
  },
  {
   "cell_type": "code",
   "execution_count": null,
   "metadata": {},
   "outputs": [],
   "source": []
  },
  {
   "cell_type": "code",
   "execution_count": null,
   "metadata": {},
   "outputs": [],
   "source": []
  },
  {
   "cell_type": "code",
   "execution_count": null,
   "metadata": {},
   "outputs": [],
   "source": []
  },
  {
   "cell_type": "code",
   "execution_count": null,
   "metadata": {},
   "outputs": [],
   "source": []
  },
  {
   "cell_type": "code",
   "execution_count": null,
   "metadata": {},
   "outputs": [],
   "source": []
  }
 ],
 "metadata": {
  "kernelspec": {
   "display_name": "Python 3",
   "language": "python",
   "name": "python3"
  },
  "language_info": {
   "codemirror_mode": {
    "name": "ipython",
    "version": 3
   },
   "file_extension": ".py",
   "mimetype": "text/x-python",
   "name": "python",
   "nbconvert_exporter": "python",
   "pygments_lexer": "ipython3",
   "version": "3.8.5"
  }
 },
 "nbformat": 4,
 "nbformat_minor": 4
}
